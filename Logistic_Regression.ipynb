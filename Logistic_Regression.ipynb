{
  "cells": [
    {
      "cell_type": "markdown",
      "source": [
        "\"Logistic Regression model for Wildlife conservation | species classification (bird or not bird)\""
      ],
      "metadata": {
        "id": "WvODF2dPORr3"
      }
    },
    {
      "cell_type": "code",
      "source": [
        "#purnima rangavajjula\n",
        "#S5 CSE A\n",
        "#AM.EN.U4CSE21046"
      ],
      "metadata": {
        "id": "5W2f5JBqS0T_"
      },
      "execution_count": 2,
      "outputs": []
    },
    {
      "cell_type": "markdown",
      "source": [
        " Logistic regression is a powerful statistical method used for binary classification problems, predicting outcomes as either 0 or 1.\n",
        "\n",
        " Logistic regression models the probability of an event occurring, offering insights into the likelihood of a particular outcome.\n",
        "\n",
        " The logistic function, also known as the sigmoid function, is a key component of logistic regression.\n",
        "\n",
        " It utilizes the logistic function to model the probability of a certain event occurring, providing a smooth S-shaped curve.\n",
        "\n",
        " Logistic regression is computationally efficient, less prone to overfitting, and provides probabilistic predictions, making it a versatile and interpretable tool in predictive modeling.\n",
        "\n",
        " Linear Combination:\n",
        "\n",
        " z=b0+b1x1+b2x2+....+bkxk\n",
        " bo,b1,b2...bk- coefficients of predictor variables x1,x2,x3...xk\n",
        "\n",
        " Log-odds transformation:\n",
        " The log-odds is calculated using the natural logarithm of the odds ratio, where p is the probability of the event (Y=1).\n",
        "\n",
        " logit-ln(p/1-p)=z\n",
        "\n",
        " Sigmoid function:\n",
        " The logistic (sigmoid) function transforms the log-odds into a probability between 0 and 1.\n",
        "\n",
        " p(Y=1)=1/1+e^-z\n",
        " p(Y=0)=1-p(Y=1)\n",
        "\n",
        "\n",
        "The logistic (sigmoid) function transforms the log-odds into a probability between 0 and 1. The equation includes the exponential function\n",
        "\n"
      ],
      "metadata": {
        "id": "DvGl1tOKOvFp"
      }
    },
    {
      "cell_type": "markdown",
      "source": [
        "Import Necessary Libraries"
      ],
      "metadata": {
        "id": "qgXDCyHpIsxo"
      }
    },
    {
      "cell_type": "code",
      "execution_count": 3,
      "metadata": {
        "id": "APP9btj6r5OK"
      },
      "outputs": [],
      "source": [
        "import librosa as ls\n",
        "import pandas as pd #data wrangling and data manipulation '2D' Heterogenous objects\n",
        "import numpy as np #arrays and matrices 'ND' Homogenous objects\n",
        "import seaborn as sns #Matplot library for plotting, graphics...\n",
        "import matplotlib.pyplot as plt #Data visualisation\n",
        "from sklearn.model_selection import train_test_split #from scikit learn-importing Train-Test-split\n",
        "from sklearn.linear_model import LogisticRegression #Logistic Regression model\n",
        "from sklearn.metrics import accuracy_score, classification_report, confusion_matrix # For calculating respective accuracy, confusion matrix, classification report\n",
        "import librosa.display\n",
        "import os\n",
        "from sklearn.neighbors import KNeighborsClassifier\n",
        "import json\n",
        "import ast\n",
        "import re\n",
        "from sklearn.preprocessing import StandardScaler\n",
        "from sklearn.decomposition import PCA\n",
        "from sklearn.metrics import ConfusionMatrixDisplay\n",
        "from scipy.stats import zscore\n",
        "from sklearn.impute import SimpleImputer\n",
        "from sklearn.preprocessing import MinMaxScaler\n",
        "from sklearn.impute import KNNImputer\n",
        "import joblib\n",
        "import pickle"
      ]
    },
    {
      "cell_type": "markdown",
      "source": [
        "Load the dataset and Explore"
      ],
      "metadata": {
        "id": "5ntFhBWeI6VB"
      }
    },
    {
      "cell_type": "code",
      "execution_count": 4,
      "metadata": {
        "colab": {
          "base_uri": "https://localhost:8080/",
          "height": 313
        },
        "id": "UsRmY_nHr5OM",
        "outputId": "0c5fca5d-1cc5-4f9d-df06-31140647379e"
      },
      "outputs": [
        {
          "output_type": "execute_result",
          "data": {
            "text/plain": [
              "   File_ID      Filename  Spectral_Centroid  Spectral_Bandwidth  \\\n",
              "0        0  XC100213.mp3        4116.189458         2193.760985   \n",
              "1        1  XC100251.mp3        4261.538777         2846.498340   \n",
              "2        2  XC100479.mp3        6060.823275         2119.443755   \n",
              "3        3  XC100600.mp3        4580.187914         1965.629338   \n",
              "4        4  XC102946.mp3        4474.772868         2111.824018   \n",
              "\n",
              "   Spectral_Contrast  Spectral_Rolloff    Chroma  Spectral_Flatness  \\\n",
              "0          20.003973       5991.788678  0.369853           0.060670   \n",
              "1          19.124991       7534.970936  0.559703           0.146034   \n",
              "2          25.646550       8289.603882  0.450026           0.027006   \n",
              "3          19.168746       6364.989870  0.368529           0.113970   \n",
              "4          22.203047       6641.680458  0.349839           0.060978   \n",
              "\n",
              "   Zero_Crossing_Rate           HNR species  \n",
              "0            0.346447  2.501654e-07    Bird  \n",
              "1            0.337061  8.686239e-08    Bird  \n",
              "2            0.543093  2.150358e-10    Bird  \n",
              "3            0.388023  1.353291e-06    Bird  \n",
              "4            0.353554 -3.745034e-07    Bird  "
            ],
            "text/html": [
              "\n",
              "  <div id=\"df-beb171cb-180a-4858-b7e8-b6ee5456f493\" class=\"colab-df-container\">\n",
              "    <div>\n",
              "<style scoped>\n",
              "    .dataframe tbody tr th:only-of-type {\n",
              "        vertical-align: middle;\n",
              "    }\n",
              "\n",
              "    .dataframe tbody tr th {\n",
              "        vertical-align: top;\n",
              "    }\n",
              "\n",
              "    .dataframe thead th {\n",
              "        text-align: right;\n",
              "    }\n",
              "</style>\n",
              "<table border=\"1\" class=\"dataframe\">\n",
              "  <thead>\n",
              "    <tr style=\"text-align: right;\">\n",
              "      <th></th>\n",
              "      <th>File_ID</th>\n",
              "      <th>Filename</th>\n",
              "      <th>Spectral_Centroid</th>\n",
              "      <th>Spectral_Bandwidth</th>\n",
              "      <th>Spectral_Contrast</th>\n",
              "      <th>Spectral_Rolloff</th>\n",
              "      <th>Chroma</th>\n",
              "      <th>Spectral_Flatness</th>\n",
              "      <th>Zero_Crossing_Rate</th>\n",
              "      <th>HNR</th>\n",
              "      <th>species</th>\n",
              "    </tr>\n",
              "  </thead>\n",
              "  <tbody>\n",
              "    <tr>\n",
              "      <th>0</th>\n",
              "      <td>0</td>\n",
              "      <td>XC100213.mp3</td>\n",
              "      <td>4116.189458</td>\n",
              "      <td>2193.760985</td>\n",
              "      <td>20.003973</td>\n",
              "      <td>5991.788678</td>\n",
              "      <td>0.369853</td>\n",
              "      <td>0.060670</td>\n",
              "      <td>0.346447</td>\n",
              "      <td>2.501654e-07</td>\n",
              "      <td>Bird</td>\n",
              "    </tr>\n",
              "    <tr>\n",
              "      <th>1</th>\n",
              "      <td>1</td>\n",
              "      <td>XC100251.mp3</td>\n",
              "      <td>4261.538777</td>\n",
              "      <td>2846.498340</td>\n",
              "      <td>19.124991</td>\n",
              "      <td>7534.970936</td>\n",
              "      <td>0.559703</td>\n",
              "      <td>0.146034</td>\n",
              "      <td>0.337061</td>\n",
              "      <td>8.686239e-08</td>\n",
              "      <td>Bird</td>\n",
              "    </tr>\n",
              "    <tr>\n",
              "      <th>2</th>\n",
              "      <td>2</td>\n",
              "      <td>XC100479.mp3</td>\n",
              "      <td>6060.823275</td>\n",
              "      <td>2119.443755</td>\n",
              "      <td>25.646550</td>\n",
              "      <td>8289.603882</td>\n",
              "      <td>0.450026</td>\n",
              "      <td>0.027006</td>\n",
              "      <td>0.543093</td>\n",
              "      <td>2.150358e-10</td>\n",
              "      <td>Bird</td>\n",
              "    </tr>\n",
              "    <tr>\n",
              "      <th>3</th>\n",
              "      <td>3</td>\n",
              "      <td>XC100600.mp3</td>\n",
              "      <td>4580.187914</td>\n",
              "      <td>1965.629338</td>\n",
              "      <td>19.168746</td>\n",
              "      <td>6364.989870</td>\n",
              "      <td>0.368529</td>\n",
              "      <td>0.113970</td>\n",
              "      <td>0.388023</td>\n",
              "      <td>1.353291e-06</td>\n",
              "      <td>Bird</td>\n",
              "    </tr>\n",
              "    <tr>\n",
              "      <th>4</th>\n",
              "      <td>4</td>\n",
              "      <td>XC102946.mp3</td>\n",
              "      <td>4474.772868</td>\n",
              "      <td>2111.824018</td>\n",
              "      <td>22.203047</td>\n",
              "      <td>6641.680458</td>\n",
              "      <td>0.349839</td>\n",
              "      <td>0.060978</td>\n",
              "      <td>0.353554</td>\n",
              "      <td>-3.745034e-07</td>\n",
              "      <td>Bird</td>\n",
              "    </tr>\n",
              "  </tbody>\n",
              "</table>\n",
              "</div>\n",
              "    <div class=\"colab-df-buttons\">\n",
              "\n",
              "  <div class=\"colab-df-container\">\n",
              "    <button class=\"colab-df-convert\" onclick=\"convertToInteractive('df-beb171cb-180a-4858-b7e8-b6ee5456f493')\"\n",
              "            title=\"Convert this dataframe to an interactive table.\"\n",
              "            style=\"display:none;\">\n",
              "\n",
              "  <svg xmlns=\"http://www.w3.org/2000/svg\" height=\"24px\" viewBox=\"0 -960 960 960\">\n",
              "    <path d=\"M120-120v-720h720v720H120Zm60-500h600v-160H180v160Zm220 220h160v-160H400v160Zm0 220h160v-160H400v160ZM180-400h160v-160H180v160Zm440 0h160v-160H620v160ZM180-180h160v-160H180v160Zm440 0h160v-160H620v160Z\"/>\n",
              "  </svg>\n",
              "    </button>\n",
              "\n",
              "  <style>\n",
              "    .colab-df-container {\n",
              "      display:flex;\n",
              "      gap: 12px;\n",
              "    }\n",
              "\n",
              "    .colab-df-convert {\n",
              "      background-color: #E8F0FE;\n",
              "      border: none;\n",
              "      border-radius: 50%;\n",
              "      cursor: pointer;\n",
              "      display: none;\n",
              "      fill: #1967D2;\n",
              "      height: 32px;\n",
              "      padding: 0 0 0 0;\n",
              "      width: 32px;\n",
              "    }\n",
              "\n",
              "    .colab-df-convert:hover {\n",
              "      background-color: #E2EBFA;\n",
              "      box-shadow: 0px 1px 2px rgba(60, 64, 67, 0.3), 0px 1px 3px 1px rgba(60, 64, 67, 0.15);\n",
              "      fill: #174EA6;\n",
              "    }\n",
              "\n",
              "    .colab-df-buttons div {\n",
              "      margin-bottom: 4px;\n",
              "    }\n",
              "\n",
              "    [theme=dark] .colab-df-convert {\n",
              "      background-color: #3B4455;\n",
              "      fill: #D2E3FC;\n",
              "    }\n",
              "\n",
              "    [theme=dark] .colab-df-convert:hover {\n",
              "      background-color: #434B5C;\n",
              "      box-shadow: 0px 1px 3px 1px rgba(0, 0, 0, 0.15);\n",
              "      filter: drop-shadow(0px 1px 2px rgba(0, 0, 0, 0.3));\n",
              "      fill: #FFFFFF;\n",
              "    }\n",
              "  </style>\n",
              "\n",
              "    <script>\n",
              "      const buttonEl =\n",
              "        document.querySelector('#df-beb171cb-180a-4858-b7e8-b6ee5456f493 button.colab-df-convert');\n",
              "      buttonEl.style.display =\n",
              "        google.colab.kernel.accessAllowed ? 'block' : 'none';\n",
              "\n",
              "      async function convertToInteractive(key) {\n",
              "        const element = document.querySelector('#df-beb171cb-180a-4858-b7e8-b6ee5456f493');\n",
              "        const dataTable =\n",
              "          await google.colab.kernel.invokeFunction('convertToInteractive',\n",
              "                                                    [key], {});\n",
              "        if (!dataTable) return;\n",
              "\n",
              "        const docLinkHtml = 'Like what you see? Visit the ' +\n",
              "          '<a target=\"_blank\" href=https://colab.research.google.com/notebooks/data_table.ipynb>data table notebook</a>'\n",
              "          + ' to learn more about interactive tables.';\n",
              "        element.innerHTML = '';\n",
              "        dataTable['output_type'] = 'display_data';\n",
              "        await google.colab.output.renderOutput(dataTable, element);\n",
              "        const docLink = document.createElement('div');\n",
              "        docLink.innerHTML = docLinkHtml;\n",
              "        element.appendChild(docLink);\n",
              "      }\n",
              "    </script>\n",
              "  </div>\n",
              "\n",
              "\n",
              "<div id=\"df-5edcd39d-952b-429e-bb22-39f1d69fbe76\">\n",
              "  <button class=\"colab-df-quickchart\" onclick=\"quickchart('df-5edcd39d-952b-429e-bb22-39f1d69fbe76')\"\n",
              "            title=\"Suggest charts\"\n",
              "            style=\"display:none;\">\n",
              "\n",
              "<svg xmlns=\"http://www.w3.org/2000/svg\" height=\"24px\"viewBox=\"0 0 24 24\"\n",
              "     width=\"24px\">\n",
              "    <g>\n",
              "        <path d=\"M19 3H5c-1.1 0-2 .9-2 2v14c0 1.1.9 2 2 2h14c1.1 0 2-.9 2-2V5c0-1.1-.9-2-2-2zM9 17H7v-7h2v7zm4 0h-2V7h2v10zm4 0h-2v-4h2v4z\"/>\n",
              "    </g>\n",
              "</svg>\n",
              "  </button>\n",
              "\n",
              "<style>\n",
              "  .colab-df-quickchart {\n",
              "      --bg-color: #E8F0FE;\n",
              "      --fill-color: #1967D2;\n",
              "      --hover-bg-color: #E2EBFA;\n",
              "      --hover-fill-color: #174EA6;\n",
              "      --disabled-fill-color: #AAA;\n",
              "      --disabled-bg-color: #DDD;\n",
              "  }\n",
              "\n",
              "  [theme=dark] .colab-df-quickchart {\n",
              "      --bg-color: #3B4455;\n",
              "      --fill-color: #D2E3FC;\n",
              "      --hover-bg-color: #434B5C;\n",
              "      --hover-fill-color: #FFFFFF;\n",
              "      --disabled-bg-color: #3B4455;\n",
              "      --disabled-fill-color: #666;\n",
              "  }\n",
              "\n",
              "  .colab-df-quickchart {\n",
              "    background-color: var(--bg-color);\n",
              "    border: none;\n",
              "    border-radius: 50%;\n",
              "    cursor: pointer;\n",
              "    display: none;\n",
              "    fill: var(--fill-color);\n",
              "    height: 32px;\n",
              "    padding: 0;\n",
              "    width: 32px;\n",
              "  }\n",
              "\n",
              "  .colab-df-quickchart:hover {\n",
              "    background-color: var(--hover-bg-color);\n",
              "    box-shadow: 0 1px 2px rgba(60, 64, 67, 0.3), 0 1px 3px 1px rgba(60, 64, 67, 0.15);\n",
              "    fill: var(--button-hover-fill-color);\n",
              "  }\n",
              "\n",
              "  .colab-df-quickchart-complete:disabled,\n",
              "  .colab-df-quickchart-complete:disabled:hover {\n",
              "    background-color: var(--disabled-bg-color);\n",
              "    fill: var(--disabled-fill-color);\n",
              "    box-shadow: none;\n",
              "  }\n",
              "\n",
              "  .colab-df-spinner {\n",
              "    border: 2px solid var(--fill-color);\n",
              "    border-color: transparent;\n",
              "    border-bottom-color: var(--fill-color);\n",
              "    animation:\n",
              "      spin 1s steps(1) infinite;\n",
              "  }\n",
              "\n",
              "  @keyframes spin {\n",
              "    0% {\n",
              "      border-color: transparent;\n",
              "      border-bottom-color: var(--fill-color);\n",
              "      border-left-color: var(--fill-color);\n",
              "    }\n",
              "    20% {\n",
              "      border-color: transparent;\n",
              "      border-left-color: var(--fill-color);\n",
              "      border-top-color: var(--fill-color);\n",
              "    }\n",
              "    30% {\n",
              "      border-color: transparent;\n",
              "      border-left-color: var(--fill-color);\n",
              "      border-top-color: var(--fill-color);\n",
              "      border-right-color: var(--fill-color);\n",
              "    }\n",
              "    40% {\n",
              "      border-color: transparent;\n",
              "      border-right-color: var(--fill-color);\n",
              "      border-top-color: var(--fill-color);\n",
              "    }\n",
              "    60% {\n",
              "      border-color: transparent;\n",
              "      border-right-color: var(--fill-color);\n",
              "    }\n",
              "    80% {\n",
              "      border-color: transparent;\n",
              "      border-right-color: var(--fill-color);\n",
              "      border-bottom-color: var(--fill-color);\n",
              "    }\n",
              "    90% {\n",
              "      border-color: transparent;\n",
              "      border-bottom-color: var(--fill-color);\n",
              "    }\n",
              "  }\n",
              "</style>\n",
              "\n",
              "  <script>\n",
              "    async function quickchart(key) {\n",
              "      const quickchartButtonEl =\n",
              "        document.querySelector('#' + key + ' button');\n",
              "      quickchartButtonEl.disabled = true;  // To prevent multiple clicks.\n",
              "      quickchartButtonEl.classList.add('colab-df-spinner');\n",
              "      try {\n",
              "        const charts = await google.colab.kernel.invokeFunction(\n",
              "            'suggestCharts', [key], {});\n",
              "      } catch (error) {\n",
              "        console.error('Error during call to suggestCharts:', error);\n",
              "      }\n",
              "      quickchartButtonEl.classList.remove('colab-df-spinner');\n",
              "      quickchartButtonEl.classList.add('colab-df-quickchart-complete');\n",
              "    }\n",
              "    (() => {\n",
              "      let quickchartButtonEl =\n",
              "        document.querySelector('#df-5edcd39d-952b-429e-bb22-39f1d69fbe76 button');\n",
              "      quickchartButtonEl.style.display =\n",
              "        google.colab.kernel.accessAllowed ? 'block' : 'none';\n",
              "    })();\n",
              "  </script>\n",
              "</div>\n",
              "\n",
              "    </div>\n",
              "  </div>\n"
            ]
          },
          "metadata": {},
          "execution_count": 4
        }
      ],
      "source": [
        "df = pd.read_csv(r\"/content/fd3.csv\")\n",
        "df.head()"
      ]
    },
    {
      "cell_type": "markdown",
      "source": [
        "Splitting the data into Train-Test"
      ],
      "metadata": {
        "id": "e1sRYrMiI-Gl"
      }
    },
    {
      "cell_type": "code",
      "source": [
        "#Features(X):'Spectral_Centroid', 'Spectral_Bandwidth', 'Spectral_Contrast', 'Spectral_Rolloff', 'Chroma',\n",
        "#'Spectral_Flatness', 'Zero_Crossing_Rate', and 'HNR'.\n",
        "\n",
        "#Target (y):'species'"
      ],
      "metadata": {
        "id": "eIxdG-zBT8Sz"
      },
      "execution_count": 5,
      "outputs": []
    },
    {
      "cell_type": "code",
      "source": [
        "'''The train_test_split function from scikit-learn is used to split the dataset into training and testing sets.\n",
        "test_size=0.2 indicates that 20% of the data will be used for testing, and the remaining 80% for training.\n",
        "stratify=y ensures that the class distribution is maintained in both the training and testing sets.\n",
        "random_state=42 sets a seed for reproducibility.'''\n",
        "\n",
        "'''X_train and y_train represent the feature and target variables of the training set,\n",
        " while X_test and y_test represent the feature and target variables of the testing set. '''"
      ],
      "metadata": {
        "colab": {
          "base_uri": "https://localhost:8080/",
          "height": 53
        },
        "id": "co54MaKTUbhp",
        "outputId": "4faedb88-6aaf-4c70-bb64-0633d0ba5bc2"
      },
      "execution_count": 6,
      "outputs": [
        {
          "output_type": "execute_result",
          "data": {
            "text/plain": [
              "'X_train and y_train represent the feature and target variables of the training set,\\n while X_test and y_test represent the feature and target variables of the testing set. '"
            ],
            "application/vnd.google.colaboratory.intrinsic+json": {
              "type": "string"
            }
          },
          "metadata": {},
          "execution_count": 6
        }
      ]
    },
    {
      "cell_type": "code",
      "execution_count": 7,
      "metadata": {
        "colab": {
          "base_uri": "https://localhost:8080/"
        },
        "id": "kmCidI-br5OM",
        "outputId": "19159262-7890-4def-a8db-66e576a7784e"
      },
      "outputs": [
        {
          "output_type": "stream",
          "name": "stdout",
          "text": [
            "Number of samples in the training set: 3784\n",
            "Number of samples in the testing set: 946\n"
          ]
        }
      ],
      "source": [
        "X = df[[ 'Spectral_Centroid','Spectral_Bandwidth',\n",
        "        'Spectral_Contrast', 'Spectral_Rolloff',\n",
        "        'Chroma','Spectral_Flatness',\n",
        "         'Zero_Crossing_Rate', 'HNR' ]]\n",
        "y = df['species']\n",
        "X_train, X_test, y_train, y_test =train_test_split(X, y, test_size=0.2, stratify=y, random_state=42)\n",
        "print(f\"Number of samples in the training set: {len(X_train)}\")\n",
        "print(f\"Number of samples in the testing set: {len(X_test)}\")\n"
      ]
    },
    {
      "cell_type": "markdown",
      "source": [
        "Training the model"
      ],
      "metadata": {
        "id": "RtE7yBUtJEz8"
      }
    },
    {
      "cell_type": "code",
      "execution_count": 8,
      "metadata": {
        "colab": {
          "base_uri": "https://localhost:8080/",
          "height": 74
        },
        "id": "5OEUCOd-r5ON",
        "outputId": "25fe1e6f-5f30-41d2-d11a-61cf54a62b90"
      },
      "outputs": [
        {
          "output_type": "execute_result",
          "data": {
            "text/plain": [
              "LogisticRegression()"
            ],
            "text/html": [
              "<style>#sk-container-id-1 {color: black;background-color: white;}#sk-container-id-1 pre{padding: 0;}#sk-container-id-1 div.sk-toggleable {background-color: white;}#sk-container-id-1 label.sk-toggleable__label {cursor: pointer;display: block;width: 100%;margin-bottom: 0;padding: 0.3em;box-sizing: border-box;text-align: center;}#sk-container-id-1 label.sk-toggleable__label-arrow:before {content: \"▸\";float: left;margin-right: 0.25em;color: #696969;}#sk-container-id-1 label.sk-toggleable__label-arrow:hover:before {color: black;}#sk-container-id-1 div.sk-estimator:hover label.sk-toggleable__label-arrow:before {color: black;}#sk-container-id-1 div.sk-toggleable__content {max-height: 0;max-width: 0;overflow: hidden;text-align: left;background-color: #f0f8ff;}#sk-container-id-1 div.sk-toggleable__content pre {margin: 0.2em;color: black;border-radius: 0.25em;background-color: #f0f8ff;}#sk-container-id-1 input.sk-toggleable__control:checked~div.sk-toggleable__content {max-height: 200px;max-width: 100%;overflow: auto;}#sk-container-id-1 input.sk-toggleable__control:checked~label.sk-toggleable__label-arrow:before {content: \"▾\";}#sk-container-id-1 div.sk-estimator input.sk-toggleable__control:checked~label.sk-toggleable__label {background-color: #d4ebff;}#sk-container-id-1 div.sk-label input.sk-toggleable__control:checked~label.sk-toggleable__label {background-color: #d4ebff;}#sk-container-id-1 input.sk-hidden--visually {border: 0;clip: rect(1px 1px 1px 1px);clip: rect(1px, 1px, 1px, 1px);height: 1px;margin: -1px;overflow: hidden;padding: 0;position: absolute;width: 1px;}#sk-container-id-1 div.sk-estimator {font-family: monospace;background-color: #f0f8ff;border: 1px dotted black;border-radius: 0.25em;box-sizing: border-box;margin-bottom: 0.5em;}#sk-container-id-1 div.sk-estimator:hover {background-color: #d4ebff;}#sk-container-id-1 div.sk-parallel-item::after {content: \"\";width: 100%;border-bottom: 1px solid gray;flex-grow: 1;}#sk-container-id-1 div.sk-label:hover label.sk-toggleable__label {background-color: #d4ebff;}#sk-container-id-1 div.sk-serial::before {content: \"\";position: absolute;border-left: 1px solid gray;box-sizing: border-box;top: 0;bottom: 0;left: 50%;z-index: 0;}#sk-container-id-1 div.sk-serial {display: flex;flex-direction: column;align-items: center;background-color: white;padding-right: 0.2em;padding-left: 0.2em;position: relative;}#sk-container-id-1 div.sk-item {position: relative;z-index: 1;}#sk-container-id-1 div.sk-parallel {display: flex;align-items: stretch;justify-content: center;background-color: white;position: relative;}#sk-container-id-1 div.sk-item::before, #sk-container-id-1 div.sk-parallel-item::before {content: \"\";position: absolute;border-left: 1px solid gray;box-sizing: border-box;top: 0;bottom: 0;left: 50%;z-index: -1;}#sk-container-id-1 div.sk-parallel-item {display: flex;flex-direction: column;z-index: 1;position: relative;background-color: white;}#sk-container-id-1 div.sk-parallel-item:first-child::after {align-self: flex-end;width: 50%;}#sk-container-id-1 div.sk-parallel-item:last-child::after {align-self: flex-start;width: 50%;}#sk-container-id-1 div.sk-parallel-item:only-child::after {width: 0;}#sk-container-id-1 div.sk-dashed-wrapped {border: 1px dashed gray;margin: 0 0.4em 0.5em 0.4em;box-sizing: border-box;padding-bottom: 0.4em;background-color: white;}#sk-container-id-1 div.sk-label label {font-family: monospace;font-weight: bold;display: inline-block;line-height: 1.2em;}#sk-container-id-1 div.sk-label-container {text-align: center;}#sk-container-id-1 div.sk-container {/* jupyter's `normalize.less` sets `[hidden] { display: none; }` but bootstrap.min.css set `[hidden] { display: none !important; }` so we also need the `!important` here to be able to override the default hidden behavior on the sphinx rendered scikit-learn.org. See: https://github.com/scikit-learn/scikit-learn/issues/21755 */display: inline-block !important;position: relative;}#sk-container-id-1 div.sk-text-repr-fallback {display: none;}</style><div id=\"sk-container-id-1\" class=\"sk-top-container\"><div class=\"sk-text-repr-fallback\"><pre>LogisticRegression()</pre><b>In a Jupyter environment, please rerun this cell to show the HTML representation or trust the notebook. <br />On GitHub, the HTML representation is unable to render, please try loading this page with nbviewer.org.</b></div><div class=\"sk-container\" hidden><div class=\"sk-item\"><div class=\"sk-estimator sk-toggleable\"><input class=\"sk-toggleable__control sk-hidden--visually\" id=\"sk-estimator-id-1\" type=\"checkbox\" checked><label for=\"sk-estimator-id-1\" class=\"sk-toggleable__label sk-toggleable__label-arrow\">LogisticRegression</label><div class=\"sk-toggleable__content\"><pre>LogisticRegression()</pre></div></div></div></div></div>"
            ]
          },
          "metadata": {},
          "execution_count": 8
        }
      ],
      "source": [
        "model = LogisticRegression()\n",
        "model.fit(X_train, y_train)"
      ]
    },
    {
      "cell_type": "code",
      "source": [
        "'''In logistic regression, accuracy is a commonly used metric to evaluate the performance of the model.\n",
        "It represents the ratio of correctly predicted instances to the total number of instances in the dataset. '''"
      ],
      "metadata": {
        "colab": {
          "base_uri": "https://localhost:8080/",
          "height": 53
        },
        "id": "VGy_DKTbU9V0",
        "outputId": "6bec6a8b-8eca-4fc8-8da7-6a15cbb95122"
      },
      "execution_count": 9,
      "outputs": [
        {
          "output_type": "execute_result",
          "data": {
            "text/plain": [
              "'In logistic regression, accuracy is a commonly used metric to evaluate the performance of the model.\\nIt represents the ratio of correctly predicted instances to the total number of instances in the dataset. '"
            ],
            "application/vnd.google.colaboratory.intrinsic+json": {
              "type": "string"
            }
          },
          "metadata": {},
          "execution_count": 9
        }
      ]
    },
    {
      "cell_type": "markdown",
      "source": [
        "Training Accuracy"
      ],
      "metadata": {
        "id": "L_bQynm8JLox"
      }
    },
    {
      "cell_type": "code",
      "execution_count": 11,
      "metadata": {
        "colab": {
          "base_uri": "https://localhost:8080/"
        },
        "id": "CJusQRdOr5OO",
        "outputId": "66e3144f-57ce-497a-aa1b-2c6ff3f05831"
      },
      "outputs": [
        {
          "output_type": "stream",
          "name": "stdout",
          "text": [
            "Training Accuracy: 0.8369450317124736\n"
          ]
        }
      ],
      "source": [
        "y_train_pred = model.predict(X_train)\n",
        "train_accuracy = accuracy_score(y_train, y_train_pred)\n",
        "print(f'Training Accuracy: {train_accuracy}')\n"
      ]
    },
    {
      "cell_type": "markdown",
      "source": [
        "Testing Accuracy"
      ],
      "metadata": {
        "id": "S_iwJEvEJPjh"
      }
    },
    {
      "cell_type": "code",
      "execution_count": 12,
      "metadata": {
        "colab": {
          "base_uri": "https://localhost:8080/"
        },
        "id": "-1fJ_AEar5OO",
        "outputId": "35736e4a-588b-44d9-e7b4-2cbc46aeb97a"
      },
      "outputs": [
        {
          "output_type": "stream",
          "name": "stdout",
          "text": [
            "Testing Accuracy: 0.8276955602536998\n"
          ]
        }
      ],
      "source": [
        "y_test_pred = model.predict(X_test)\n",
        "test_accuracy = accuracy_score(y_test, y_test_pred)\n",
        "print(f'Testing Accuracy: {test_accuracy}')\n"
      ]
    },
    {
      "cell_type": "markdown",
      "source": [
        "A confusion matrix is a table that is often used to describe the performance of a classification model on a set of data for which the true values are known. It allows you to understand the performance of the model by breaking down the number of true positives, true negatives, false positives, and false negatives.\n",
        "\n",
        "True Positive (TP): The number of instances correctly predicted as positive (correctly predicted instances of the positive class).\n",
        "\n",
        "True Negative (TN): The number of instances correctly predicted as negative (correctly predicted instances of the negative class).\n",
        "\n",
        "False Positive (FP): The number of instances incorrectly predicted as positive (instances actually belonging to the negative class but predicted as positive).\n",
        "\n",
        "False Negative (FN): The number of instances incorrectly predicted as negative (instances actually belonging to the positive class but predicted as negative)."
      ],
      "metadata": {
        "id": "aJAiLZSgVQdp"
      }
    },
    {
      "cell_type": "code",
      "execution_count": 13,
      "metadata": {
        "colab": {
          "base_uri": "https://localhost:8080/",
          "height": 462
        },
        "id": "bNh0AhKKr5OO",
        "outputId": "934fa1ed-8c8a-4080-c52c-703fe3bbbb8c"
      },
      "outputs": [
        {
          "output_type": "stream",
          "name": "stdout",
          "text": [
            "Confusion Matrix:\n",
            "[[468  78]\n",
            " [ 85 315]]\n"
          ]
        },
        {
          "output_type": "display_data",
          "data": {
            "text/plain": [
              "<Figure size 400x400 with 2 Axes>"
            ],
            "image/png": "[encoded data removed]"
          },
          "metadata": {}
        }
      ],
      "source": [
        "cm = confusion_matrix(y_test, y_test_pred)\n",
        "print(\"Confusion Matrix:\")\n",
        "print(cm)\n",
        "\n",
        "plt.figure(figsize=(4, 4))\n",
        "sns.heatmap(cm, annot=True, fmt=\"d\", cmap=\"viridis\", xticklabels=[\"Negative\", \"Positive\"], yticklabels=[\"Negative\", \"Positive\"])\n",
        "plt.xlabel(\"Predicted Label\")\n",
        "plt.ylabel(\"True Label\")\n",
        "plt.title(\"Confusion Matrix\")\n",
        "plt.show()"
      ]
    },
    {
      "cell_type": "code",
      "source": [
        "report = classification_report(y_test, y_test_pred)\n",
        "\n",
        "# Print the classification report\n",
        "print(\"Classification Report:\")\n",
        "print(report)"
      ],
      "metadata": {
        "colab": {
          "base_uri": "https://localhost:8080/"
        },
        "id": "-dKo-aq6dm_t",
        "outputId": "2cc1662f-11a6-4d57-cf41-07c37ad07655"
      },
      "execution_count": 14,
      "outputs": [
        {
          "output_type": "stream",
          "name": "stdout",
          "text": [
            "Classification Report:\n",
            "              precision    recall  f1-score   support\n",
            "\n",
            "        Bird       0.85      0.86      0.85       546\n",
            "    Not-Bird       0.80      0.79      0.79       400\n",
            "\n",
            "    accuracy                           0.83       946\n",
            "   macro avg       0.82      0.82      0.82       946\n",
            "weighted avg       0.83      0.83      0.83       946\n",
            "\n"
          ]
        }
      ]
    },
    {
      "cell_type": "code",
      "source": [
        "'''END'''"
      ],
      "metadata": {
        "colab": {
          "base_uri": "https://localhost:8080/",
          "height": 36
        },
        "id": "rMFTAhzyTb-H",
        "outputId": "ac685d01-ba16-4409-acf0-ec2bf55e441b"
      },
      "execution_count": null,
      "outputs": [
        {
          "output_type": "execute_result",
          "data": {
            "text/plain": [
              "'END'"
            ],
            "application/vnd.google.colaboratory.intrinsic+json": {
              "type": "string"
            }
          },
          "metadata": {},
          "execution_count": 12
        }
      ]
    }
  ],
  "metadata": {
    "kernelspec": {
      "display_name": "Python 3",
      "language": "python",
      "name": "python3"
    },
    "language_info": {
      "codemirror_mode": {
        "name": "ipython",
        "version": 3
      },
      "file_extension": ".py",
      "mimetype": "text/x-python",
      "name": "python",
      "nbconvert_exporter": "python",
      "pygments_lexer": "ipython3",
      "version": "3.11.4"
    },
    "colab": {
      "provenance": []
    }
  },
  "nbformat": 4,
  "nbformat_minor": 0
}